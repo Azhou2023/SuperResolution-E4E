{
 "cells": [
  {
   "cell_type": "code",
   "execution_count": 1,
   "metadata": {},
   "outputs": [],
   "source": [
    "import numpy as np\n",
    "import matplotlib.pyplot as plt\n",
    "from PIL import Image\n",
    "from data import SRCNNDataset\n",
    "import torch\n",
    "\n",
    "data = np.load(\"../256dataset_images_small.npy\")\n",
    "data = np.transpose(data, (0, 2, 3, 1))\n",
    "\n",
    "device = torch.device(\"cuda\" if torch.cuda.is_available() else \"cpu\")\n",
    "\n",
    "plt.figure()\n",
    "f, ax = plt.subplots(1, 2)\n",
    "\n",
    "dataset = SRCNNDataset(hr_images=data, scale_factor=3)\n",
    "train_dataset, validation_dataset, test_dataset = torch.utils.data.random_split(dataset, [0.8, 0.1, 0.1])\n",
    "train_dataloader = torch.utils.data.DataLoader(train_dataset, batch_size=16, shuffle=False)\n",
    "validation_dataloader = torch.utils.data.DataLoader(validation_dataset, batch_size=16, shuffle=False)\n",
    "test_dataloader = torch.utils.data.DataLoader(test_dataset, batch_size=16, shuffle=False)\n",
    "\n",
    "lr, hr = next(iter(train_dataloader))\n",
    "\n",
    "ax[0].imshow(lr[10].T)\n",
    "ax[1].imshow(hr[10].T)\n",
    "\n"
   ]
  },
  {
   "cell_type": "code",
   "execution_count": 2,
   "metadata": {},
   "outputs": [
    {
     "name": "stdout",
     "output_type": "stream",
     "text": [
      "Epoch 1 / 1000\n",
      "Training loss: 0.10389182124767572 | Validation loss: 0.010497473918699792 | PSNR: 19.81127400924271\n",
      "Epoch 2 / 1000\n",
      "Training loss: 0.009238796136308609 | Validation loss: 0.008873600865315114 | PSNR: 20.547813977612638\n",
      "Epoch 3 / 1000\n",
      "Batch 613 / 1115\r"
     ]
    },
    {
     "ename": "KeyboardInterrupt",
     "evalue": "",
     "output_type": "error",
     "traceback": [
      "\u001b[1;31m---------------------------------------------------------------------------\u001b[0m",
      "\u001b[1;31mKeyboardInterrupt\u001b[0m                         Traceback (most recent call last)",
      "Cell \u001b[1;32mIn[2], line 61\u001b[0m\n\u001b[0;32m     59\u001b[0m model \u001b[38;5;241m=\u001b[39m SRCNN()\n\u001b[0;32m     60\u001b[0m model \u001b[38;5;241m=\u001b[39m model\u001b[38;5;241m.\u001b[39mto(device)\n\u001b[1;32m---> 61\u001b[0m \u001b[43mtrain\u001b[49m\u001b[43m(\u001b[49m\u001b[43mmodel\u001b[49m\u001b[43m,\u001b[49m\u001b[43m \u001b[49m\u001b[43mtrain_dataloader\u001b[49m\u001b[43m,\u001b[49m\u001b[43m \u001b[49m\u001b[43mvalidation_dataloader\u001b[49m\u001b[43m,\u001b[49m\u001b[43m \u001b[49m\u001b[43mepochs\u001b[49m\u001b[38;5;241;43m=\u001b[39;49m\u001b[38;5;241;43m1000\u001b[39;49m\u001b[43m,\u001b[49m\u001b[43m \u001b[49m\u001b[43mlr\u001b[49m\u001b[38;5;241;43m=\u001b[39;49m\u001b[38;5;241;43m0.0001\u001b[39;49m\u001b[43m)\u001b[49m\n\u001b[0;32m     62\u001b[0m torch\u001b[38;5;241m.\u001b[39msave(model, \u001b[38;5;124m\"\u001b[39m\u001b[38;5;124mSRCNN_1000epochs.pt\u001b[39m\u001b[38;5;124m\"\u001b[39m)\n",
      "Cell \u001b[1;32mIn[2], line 29\u001b[0m, in \u001b[0;36mtrain\u001b[1;34m(model, train_set, validation_set, epochs, lr)\u001b[0m\n\u001b[0;32m     26\u001b[0m     loss\u001b[38;5;241m.\u001b[39mbackward()\n\u001b[0;32m     27\u001b[0m     optimizer\u001b[38;5;241m.\u001b[39mstep()\n\u001b[1;32m---> 29\u001b[0m     epoch_train_loss\u001b[38;5;241m+\u001b[39m\u001b[38;5;241m=\u001b[39m\u001b[43mloss\u001b[49m\u001b[38;5;241;43m.\u001b[39;49m\u001b[43mcpu\u001b[49m\u001b[43m(\u001b[49m\u001b[43m)\u001b[49m\u001b[38;5;241m.\u001b[39mitem()\n\u001b[0;32m     30\u001b[0m training_loss\u001b[38;5;241m.\u001b[39mappend(epoch_train_loss\u001b[38;5;241m/\u001b[39m\u001b[38;5;28mlen\u001b[39m(train_set))\n\u001b[0;32m     32\u001b[0m epoch_validation_loss \u001b[38;5;241m=\u001b[39m \u001b[38;5;241m0\u001b[39m\n",
      "\u001b[1;31mKeyboardInterrupt\u001b[0m: "
     ]
    }
   ],
   "source": [
    "from model import SRCNN\n",
    "from util import psnr\n",
    "import torch.backends.cudnn as cudnn\n",
    "\n",
    "def train(model, train_set, validation_set, epochs, lr):\n",
    "    loss_function = torch.nn.MSELoss()\n",
    "    optimizer = torch.optim.SGD(model.parameters(), lr=lr)\n",
    "    training_loss = []\n",
    "    validation_loss = []\n",
    "    psnrs = []\n",
    "    \n",
    "    torch.cuda.empty_cache()\n",
    "\n",
    "    for epoch in range(1, epochs+1):\n",
    "        print(f\"Epoch {epoch} / {epochs}\")\n",
    "        epoch_train_loss = 0\n",
    "        for index, batch in enumerate(train_set):\n",
    "            print(f\"Batch {index} / {len(train_set)-1}\", end=\"\\r\")\n",
    "\n",
    "            features, labels = batch\n",
    "            features = features.to(device)\n",
    "            labels = labels.to(device)\n",
    "            y_pred = model(features)\n",
    "            loss = loss_function(y_pred, labels)\n",
    "            optimizer.zero_grad()\n",
    "            loss.backward()\n",
    "            optimizer.step()\n",
    "\n",
    "            epoch_train_loss+=loss.cpu().item()\n",
    "        training_loss.append(epoch_train_loss/len(train_set))\n",
    "\n",
    "        epoch_validation_loss = 0\n",
    "        epoch_validation_psnr = 0\n",
    "        with torch.no_grad():\n",
    "            for index, batch in enumerate(validation_set):\n",
    "                print(f\"Validation Batch {index} / {len(validation_set)-1}\", end=\"\\r\")\n",
    "                features, labels = batch\n",
    "                features = features.to(device)\n",
    "                labels = labels.to(device)\n",
    "                \n",
    "                y_pred = model(features)\n",
    "                loss = loss_function(y_pred, labels)\n",
    "\n",
    "                epoch_validation_loss+=loss.cpu().item()\n",
    "                epoch_validation_psnr+=psnr(y_pred, labels)\n",
    "            validation_loss.append(epoch_validation_loss/len(validation_set))\n",
    "            psnrs.append(epoch_validation_psnr/len(validation_set))\n",
    "        \n",
    "        print(f\"Training loss: {epoch_train_loss/len(train_set)} | Validation loss: {epoch_validation_loss/len(validation_set)} | PSNR: {epoch_validation_psnr/len(validation_set)}\")\n",
    "    \n",
    "    plt.figure()\n",
    "    f, ax = plt.subplots(1, 2)\n",
    "    ax[0].plot(range(1, epochs+1), training_loss, label=\"training loss\")\n",
    "    ax[0].plot(range(1, epochs+1), validation_loss, label=\"validation loss\")\n",
    "    ax[1].plot(range(1, epochs+1), psnrs, label=\"PSNR\")\n",
    "    ax[0].legend(loc='best')\n",
    "    plt.show()\n",
    "\n",
    "model = SRCNN()\n",
    "model = model.to(device)\n",
    "train(model, train_dataloader, validation_dataloader, epochs=1000, lr=0.0001)\n",
    "torch.save(model, \"SRCNN_1000epochs.pt\")\n"
   ]
  },
  {
   "cell_type": "code",
   "execution_count": null,
   "metadata": {},
   "outputs": [],
   "source": [
    "# Try to speed up training? If possible\n",
    "    # Do we have access to strong GPUs...\n",
    "# Train for 1000+ epochs\n",
    "# Adjust scale?\n",
    "# Try sub-images?"
   ]
  },
  {
   "cell_type": "markdown",
   "metadata": {},
   "source": []
  }
 ],
 "metadata": {
  "kernelspec": {
   "display_name": "data-analysis",
   "language": "python",
   "name": "python3"
  },
  "language_info": {
   "codemirror_mode": {
    "name": "ipython",
    "version": 3
   },
   "file_extension": ".py",
   "mimetype": "text/x-python",
   "name": "python",
   "nbconvert_exporter": "python",
   "pygments_lexer": "ipython3",
   "version": "3.11.11"
  }
 },
 "nbformat": 4,
 "nbformat_minor": 2
}
